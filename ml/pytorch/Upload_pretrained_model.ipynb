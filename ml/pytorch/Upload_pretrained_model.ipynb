{
 "cells": [
  {
   "cell_type": "markdown",
   "id": "fc120b53-55c9-429b-ab10-2685969d5afb",
   "metadata": {},
   "source": [
    "# Download a pre-trained manu-vi model and upload it to S3\n",
    "In you have to had the time or resources to train the model by yourself, you can download a pre-trained manu-vi model and upload it to your S3 bucket.\n",
    "\n",
    "Please ensure that the AWS environment variables are set AWS_S3_ENDPOINT, AWS_S3_BUCKET, AWS_SECRET_ACCESS_KEY, AWS_ACCESS_KEY_ID"
   ]
  },
  {
   "cell_type": "code",
   "execution_count": 17,
   "id": "8d61b5e4-bcb7-452c-b859-37c47e2fbb18",
   "metadata": {},
   "outputs": [
    {
     "name": "stdout",
     "output_type": "stream",
     "text": [
      "Requirement already satisfied: boto3 in /opt/app-root/lib/python3.9/site-packages (1.26.123)\n",
      "Requirement already satisfied: botocore<1.30.0,>=1.29.123 in /opt/app-root/lib/python3.9/site-packages (from boto3) (1.29.123)\n",
      "Requirement already satisfied: s3transfer<0.7.0,>=0.6.0 in /opt/app-root/lib/python3.9/site-packages (from boto3) (0.6.0)\n",
      "Requirement already satisfied: jmespath<2.0.0,>=0.7.1 in /opt/app-root/lib/python3.9/site-packages (from boto3) (1.0.1)\n",
      "Requirement already satisfied: python-dateutil<3.0.0,>=2.1 in /opt/app-root/lib/python3.9/site-packages (from botocore<1.30.0,>=1.29.123->boto3) (2.8.2)\n",
      "Requirement already satisfied: urllib3<1.27,>=1.25.4 in /opt/app-root/lib/python3.9/site-packages (from botocore<1.30.0,>=1.29.123->boto3) (1.26.15)\n",
      "Requirement already satisfied: six>=1.5 in /opt/app-root/lib/python3.9/site-packages (from python-dateutil<3.0.0,>=2.1->botocore<1.30.0,>=1.29.123->boto3) (1.16.0)\n",
      "\n",
      "\u001b[1m[\u001b[0m\u001b[34;49mnotice\u001b[0m\u001b[1;39;49m]\u001b[0m\u001b[39;49m A new release of pip is available: \u001b[0m\u001b[31;49m23.0.1\u001b[0m\u001b[39;49m -> \u001b[0m\u001b[32;49m23.1.2\u001b[0m\n",
      "\u001b[1m[\u001b[0m\u001b[34;49mnotice\u001b[0m\u001b[1;39;49m]\u001b[0m\u001b[39;49m To update, run: \u001b[0m\u001b[32;49mpip install --upgrade pip\u001b[0m\n"
     ]
    }
   ],
   "source": [
    "# Install boto3\n",
    "!pip install boto3"
   ]
  },
  {
   "cell_type": "code",
   "execution_count": 18,
   "id": "b7ba8470-3cb5-4ef1-a231-97143ff9380c",
   "metadata": {},
   "outputs": [
    {
     "name": "stdout",
     "output_type": "stream",
     "text": [
      "  % Total    % Received % Xferd  Average Speed   Time    Time     Time  Current\n",
      "                                 Dload  Upload   Total   Spent    Left  Speed\n",
      "  0     0    0     0    0     0      0      0 --:--:-- --:--:-- --:--:--     0\n",
      "100 80.0M  100 80.0M    0     0  24.7M      0  0:00:03  0:00:03 --:--:-- 35.5M\n"
     ]
    }
   ],
   "source": [
    "!curl -LO https://github.com/stefan-bergstein/manuela-visual-inspection/releases/download/v0.3-alpha-pytorch-rhods/manu-vi-best-yolov5m.onnx "
   ]
  },
  {
   "cell_type": "code",
   "execution_count": 12,
   "id": "de08f08d-6c35-4388-9a4e-55806676c0b9",
   "metadata": {},
   "outputs": [
    {
     "name": "stdout",
     "output_type": "stream",
     "text": [
      "src_file: \"manu-vi-best-yolov5m.onnx\"\n",
      "target_object_name: \"manu-vi-best.onnx\"\n",
      "initializing S3 client\n",
      "uploading model to bucket manu-vi as manu-vi-best.onnx\n",
      "model uploaded and available as \"manu-vi-best.onnx\"\n"
     ]
    }
   ],
   "source": [
    "from upload_model import upload_model\n",
    "import boto3\n",
    "\n",
    "upload_model(\"manu-vi-best-yolov5m.onnx\", \"manu-vi-best.onnx\")"
   ]
  },
  {
   "cell_type": "code",
   "execution_count": null,
   "id": "499021fd-2ea4-4c48-a337-3f553b0d94de",
   "metadata": {},
   "outputs": [],
   "source": []
  }
 ],
 "metadata": {
  "kernelspec": {
   "display_name": "Python 3.9.14",
   "language": "python",
   "name": "python3"
  },
  "language_info": {
   "codemirror_mode": {
    "name": "ipython",
    "version": 3
   },
   "file_extension": ".py",
   "mimetype": "text/x-python",
   "name": "python",
   "nbconvert_exporter": "python",
   "pygments_lexer": "ipython3",
   "version": "3.9.14"
  }
 },
 "nbformat": 4,
 "nbformat_minor": 5
}
